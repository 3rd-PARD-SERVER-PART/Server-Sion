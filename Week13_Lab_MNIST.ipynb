{
 "cells": [
  {
   "cell_type": "markdown",
   "metadata": {
    "colab_type": "text",
    "id": "116XJaEYRQ3Y"
   },
   "source": [
    "**Read Me** \n",
    "\n",
    "\n",
    "* make sure that you have two directories\n",
    "1. ./data/\n",
    "2. ./results/\n"
   ]
  },
  {
   "cell_type": "markdown",
   "metadata": {},
   "source": [
    "# Import Packages"
   ]
  },
  {
   "cell_type": "code",
   "execution_count": 2,
   "metadata": {
    "colab": {},
    "colab_type": "code",
    "id": "XdfRWE0OQ3Lu"
   },
   "outputs": [],
   "source": [
    "from __future__ import print_function\n",
    "import argparse\n",
    "import torch\n",
    "import torch.nn as nn\n",
    "import torch.nn.functional as F\n",
    "import torch.optim as optim\n",
    "from torchvision import datasets, transforms"
   ]
  },
  {
   "cell_type": "markdown",
   "metadata": {
    "colab_type": "text",
    "id": "ubMzsP4wQ6J3"
   },
   "source": [
    "# Models: NetFF and NetCNN"
   ]
  },
  {
   "cell_type": "code",
   "execution_count": 3,
   "metadata": {
    "colab": {},
    "colab_type": "code",
    "id": "C68qwtfiT4UF"
   },
   "outputs": [],
   "source": [
    "class NetFF(nn.Module):\n",
    "    def __init__(self):\n",
    "        super(NetFF, self).__init__()\n",
    "        self.fc1 = nn.Linear(784, 500)\n",
    "        self.fc2 = nn.Linear(500, 300)\n",
    "        self.fc3 = nn.Linear(300, 100)\n",
    "        self.fc4 = nn.Linear(100, 10)\n",
    "\n",
    "    def forward(self, x):\n",
    "        x = x.view(-1, 784)\n",
    "        x = torch.tanh(self.fc1(x))\n",
    "        x = torch.tanh(self.fc2(x))\n",
    "        x = torch.tanh(self.fc3(x))\n",
    "        x = self.fc4(x)\n",
    "        return F.log_softmax(x, dim=1)\n",
    "\n",
    "\n",
    "class NetCNN(nn.Module):\n",
    "    def __init__(self):\n",
    "        super(NetCNN, self).__init__()\n",
    "        self.conv1 = nn.Conv2d(1, 20, 5, 1)\n",
    "        self.conv2 = nn.Conv2d(20, 50, 5, 1)\n",
    "        self.fc1 = nn.Linear(4*4*50, 500)\n",
    "        self.fc2 = nn.Linear(500, 10)\n",
    "\n",
    "    def forward(self, x):\n",
    "        x = F.relu(self.conv1(x))\n",
    "        x = F.max_pool2d(x, 2, 2)\n",
    "        x = F.relu(self.conv2(x))\n",
    "        x = F.max_pool2d(x, 2, 2)\n",
    "        x = x.view(-1, 4*4*50)\n",
    "        x = F.relu(self.fc1(x))\n",
    "        x = self.fc2(x)\n",
    "        return F.log_softmax(x, dim=1)"
   ]
  },
  {
   "cell_type": "markdown",
   "metadata": {
    "colab_type": "text",
    "id": "Rpz-oovKRDkU"
   },
   "source": [
    "# Functions: train() and test()"
   ]
  },
  {
   "cell_type": "code",
   "execution_count": 10,
   "metadata": {
    "colab": {},
    "colab_type": "code",
    "id": "drnwtS8MRCia"
   },
   "outputs": [],
   "source": [
    "def train(model, device, train_loader, optimizer, epoch, log_interval):\n",
    "    model.train()\n",
    "    for batch_idx, (data, target) in enumerate(train_loader):\n",
    "        data, target = data.to(device), target.to(device)\n",
    "        optimizer.zero_grad()\n",
    "        output = model(data)\n",
    "        loss = F.nll_loss(output, target)\n",
    "        loss.backward()\n",
    "        optimizer.step()\n",
    "       \n",
    "        if batch_idx % log_interval == 0:\n",
    "            print('Train Epoch: {} [{}/{} ({:.0f}%)]\\tLoss: {:.6f}'.format(\n",
    "                epoch, batch_idx * len(data), len(train_loader.dataset),\n",
    "                100. * batch_idx / len(train_loader), loss.item()))\n",
    "\n",
    "            torch.save(model.state_dict(),\"./results/mnist_cnn.pth\")\n",
    "\n",
    "\n",
    "def test(model, device, test_loader):\n",
    "    model.eval()\n",
    "    test_loss = 0\n",
    "    correct = 0\n",
    "    with torch.no_grad():\n",
    "        for data, target in test_loader:\n",
    "            data, target = data.to(device), target.to(device)\n",
    "            output = model(data)\n",
    "            \n",
    "            # sum up batch loss\n",
    "            test_loss += F.nll_loss(output, target, reduction='sum').item()  \n",
    "\n",
    "            # get the index of the max log-probability\n",
    "            pred = output.argmax(dim=1, keepdim=True)                        \n",
    "            correct += pred.eq(target.view_as(pred)).sum().item()\n",
    "\n",
    "    test_loss /= len(test_loader.dataset)\n",
    "\n",
    "    print('\\nTest: Average loss: {:.4f}, Accuracy: {}/{} ({:.0f}%)\\n'.format(\n",
    "        test_loss, correct, len(test_loader.dataset),\n",
    "        100. * correct / len(test_loader.dataset)))"
   ]
  },
  {
   "cell_type": "markdown",
   "metadata": {
    "colab_type": "text",
    "id": "_KB1pn1qRG-K"
   },
   "source": [
    "# Parameters and Data load"
   ]
  },
  {
   "cell_type": "code",
   "execution_count": 11,
   "metadata": {
    "colab": {
     "base_uri": "https://localhost:8080/",
     "height": 819
    },
    "colab_type": "code",
    "id": "YHYgekGqT7jd",
    "outputId": "4ba98421-e10c-4d1f-df8d-221d0c358d4f"
   },
   "outputs": [],
   "source": [
    "seed = 1\n",
    "epochs = 2\n",
    "batch_size = 32\n",
    "test_batch_size = 1000\n",
    "lr = 0.001 # learning rate\n",
    "momentum = 0.9\n",
    "log_interval = 200\n",
    "save_model = True\n",
    "\n",
    "use_cuda = torch.cuda.is_available()\n",
    "device = torch.device(\"cuda\" if use_cuda else \"cpu\")\n",
    "kwargs = {'num_workers': 1, 'pin_memory': True} if use_cuda else {}\n",
    "\n",
    "transform=transforms.Compose([\n",
    "   transforms.ToTensor(),\n",
    "   transforms.Normalize((0.1307,), (0.3081,)) ])\n",
    "\n",
    "train_loader = torch.utils.data.DataLoader(\n",
    "    datasets.MNIST('./data', train=True, download=True, transform=transform),\n",
    "    batch_size=batch_size, shuffle=True, **kwargs)\n",
    "\n",
    "test_loader = torch.utils.data.DataLoader(\n",
    "    datasets.MNIST('./data', train=False, transform=transform),\n",
    "    batch_size=test_batch_size, shuffle=True, **kwargs)\n"
   ]
  },
  {
   "cell_type": "markdown",
   "metadata": {},
   "source": [
    "# NetFF model"
   ]
  },
  {
   "cell_type": "code",
   "execution_count": 12,
   "metadata": {},
   "outputs": [
    {
     "name": "stdout",
     "output_type": "stream",
     "text": [
      "Train Epoch: 1 [0/60000 (0%)]\tLoss: 2.309637\n",
      "Train Epoch: 1 [6400/60000 (11%)]\tLoss: 1.329176\n",
      "Train Epoch: 1 [12800/60000 (21%)]\tLoss: 0.706647\n",
      "Train Epoch: 1 [19200/60000 (32%)]\tLoss: 0.438433\n",
      "Train Epoch: 1 [25600/60000 (43%)]\tLoss: 0.593319\n",
      "Train Epoch: 1 [32000/60000 (53%)]\tLoss: 0.353528\n",
      "Train Epoch: 1 [38400/60000 (64%)]\tLoss: 0.276715\n",
      "Train Epoch: 1 [44800/60000 (75%)]\tLoss: 0.546666\n",
      "Train Epoch: 1 [51200/60000 (85%)]\tLoss: 0.174126\n",
      "Train Epoch: 1 [57600/60000 (96%)]\tLoss: 0.285674\n",
      "\n",
      "Test: Average loss: 0.3004, Accuracy: 9155/10000 (92%)\n",
      "\n",
      "Train Epoch: 2 [0/60000 (0%)]\tLoss: 0.343893\n",
      "Train Epoch: 2 [6400/60000 (11%)]\tLoss: 0.128626\n",
      "Train Epoch: 2 [12800/60000 (21%)]\tLoss: 0.349224\n",
      "Train Epoch: 2 [19200/60000 (32%)]\tLoss: 0.306493\n",
      "Train Epoch: 2 [25600/60000 (43%)]\tLoss: 0.306759\n",
      "Train Epoch: 2 [32000/60000 (53%)]\tLoss: 0.119653\n",
      "Train Epoch: 2 [38400/60000 (64%)]\tLoss: 0.246272\n",
      "Train Epoch: 2 [44800/60000 (75%)]\tLoss: 0.407206\n",
      "Train Epoch: 2 [51200/60000 (85%)]\tLoss: 0.331753\n",
      "Train Epoch: 2 [57600/60000 (96%)]\tLoss: 0.114386\n",
      "\n",
      "Test: Average loss: 0.2307, Accuracy: 9343/10000 (93%)\n",
      "\n"
     ]
    }
   ],
   "source": [
    "torch.manual_seed(seed)\n",
    "\n",
    "model = NetFF().to(device)\n",
    "optimizer = optim.SGD(model.parameters(), lr=lr, momentum=momentum)\n",
    "\n",
    "for epoch in range(1, epochs + 1):\n",
    "    train(model, device, train_loader, optimizer, epoch, log_interval)\n",
    "    test(model, device, test_loader)\n",
    "\n",
    "if (save_model):\n",
    "    torch.save(model,\"./results/mnist_NetFF.pth\")"
   ]
  },
  {
   "cell_type": "markdown",
   "metadata": {},
   "source": [
    "# NetCNN Model"
   ]
  },
  {
   "cell_type": "code",
   "execution_count": 13,
   "metadata": {},
   "outputs": [
    {
     "name": "stdout",
     "output_type": "stream",
     "text": [
      "Train Epoch: 1 [0/60000 (0%)]\tLoss: 2.303299\n",
      "Train Epoch: 1 [6400/60000 (11%)]\tLoss: 0.593885\n",
      "Train Epoch: 1 [12800/60000 (21%)]\tLoss: 0.222533\n",
      "Train Epoch: 1 [19200/60000 (32%)]\tLoss: 0.395274\n",
      "Train Epoch: 1 [25600/60000 (43%)]\tLoss: 0.148499\n",
      "Train Epoch: 1 [32000/60000 (53%)]\tLoss: 0.187254\n",
      "Train Epoch: 1 [38400/60000 (64%)]\tLoss: 0.202007\n",
      "Train Epoch: 1 [44800/60000 (75%)]\tLoss: 0.050570\n",
      "Train Epoch: 1 [51200/60000 (85%)]\tLoss: 0.163213\n",
      "Train Epoch: 1 [57600/60000 (96%)]\tLoss: 0.074786\n",
      "\n",
      "Test: Average loss: 0.1089, Accuracy: 9687/10000 (97%)\n",
      "\n",
      "Train Epoch: 2 [0/60000 (0%)]\tLoss: 0.322160\n",
      "Train Epoch: 2 [6400/60000 (11%)]\tLoss: 0.089705\n",
      "Train Epoch: 2 [12800/60000 (21%)]\tLoss: 0.052976\n",
      "Train Epoch: 2 [19200/60000 (32%)]\tLoss: 0.108583\n",
      "Train Epoch: 2 [25600/60000 (43%)]\tLoss: 0.084108\n",
      "Train Epoch: 2 [32000/60000 (53%)]\tLoss: 0.114488\n",
      "Train Epoch: 2 [38400/60000 (64%)]\tLoss: 0.161090\n",
      "Train Epoch: 2 [44800/60000 (75%)]\tLoss: 0.079185\n",
      "Train Epoch: 2 [51200/60000 (85%)]\tLoss: 0.008939\n",
      "Train Epoch: 2 [57600/60000 (96%)]\tLoss: 0.097126\n",
      "\n",
      "Test: Average loss: 0.0607, Accuracy: 9810/10000 (98%)\n",
      "\n"
     ]
    }
   ],
   "source": [
    "torch.manual_seed(seed)\n",
    "\n",
    "model = NetCNN().to(device)\n",
    "optimizer = optim.SGD(model.parameters(), lr=lr, momentum=momentum)\n",
    "\n",
    "for epoch in range(1, epochs + 1):\n",
    "    train(model, device, train_loader, optimizer, epoch, log_interval)\n",
    "    test(model, device, test_loader)\n",
    "\n",
    "if (save_model):\n",
    "    torch.save(model,\"./results/mnist_NetCNN.pth\")"
   ]
  },
  {
   "cell_type": "markdown",
   "metadata": {
    "colab_type": "text",
    "id": "Rlw8tSjHYwUZ"
   },
   "source": [
    "# After Training\n",
    "* load the trained model\n",
    "* test with one image or with one directory"
   ]
  },
  {
   "cell_type": "code",
   "execution_count": 35,
   "metadata": {
    "colab": {},
    "colab_type": "code",
    "id": "e6QiMXtUIm3N"
   },
   "outputs": [],
   "source": [
    "load_model = torch.load(\"./results/mnist_NetCNN.pth\")"
   ]
  },
  {
   "cell_type": "code",
   "execution_count": 33,
   "metadata": {
    "colab": {
     "base_uri": "https://localhost:8080/",
     "height": 34
    },
    "colab_type": "code",
    "id": "9PMm5LUaJGGa",
    "outputId": "d9fff9e4-f6d2-41b3-aacf-543de9eb296b"
   },
   "outputs": [
    {
     "name": "stdout",
     "output_type": "stream",
     "text": [
      "./data/mnist_test_images/test2.jpg 4\n"
     ]
    }
   ],
   "source": [
    "from skimage import io\n",
    "\n",
    "img_name = './data/mnist_test_images/test2.jpg'\n",
    "test_img = io.imread(img_name).reshape(28,28)\n",
    "test_data = transform(test_img).view(1,1,28,28).to(device)\n",
    "with torch.no_grad():\n",
    "  output=load_model(test_data)\n",
    "print(img_name, output.argmax(dim=1).cpu().numpy()[0])"
   ]
  },
  {
   "cell_type": "code",
   "execution_count": 34,
   "metadata": {
    "colab": {
     "base_uri": "https://localhost:8080/",
     "height": 374
    },
    "colab_type": "code",
    "id": "KIgQ9phHTXua",
    "outputId": "7118691a-5dc4-4891-9508-6940cfcca3ff"
   },
   "outputs": [
    {
     "name": "stdout",
     "output_type": "stream",
     "text": [
      "./data/mnist_test_images\\test9.jpg 4\n",
      "./data/mnist_test_images\\test7.jpg 3\n",
      "./data/mnist_test_images\\test8.jpg 1\n",
      "./data/mnist_test_images\\test3.jpg 1\n",
      "./data/mnist_test_images\\test19.jpg 9\n",
      "./data/mnist_test_images\\test2.jpg 4\n",
      "./data/mnist_test_images\\test20.jpg 4\n",
      "./data/mnist_test_images\\test4.jpg 9\n",
      "./data/mnist_test_images\\test17.jpg 8\n",
      "./data/mnist_test_images\\test18.jpg 6\n",
      "./data/mnist_test_images\\test6.jpg 1\n",
      "./data/mnist_test_images\\test5.jpg 2\n"
     ]
    }
   ],
   "source": [
    "from skimage import io\n",
    "import time\n",
    "import glob\n",
    "\n",
    "file_list = glob.glob(\"./data/mnist_test_images/*.jpg\")\n",
    "for img_name in file_list:\n",
    "  test_img = io.imread(img_name).reshape(28,28)\n",
    "  test_data = transform(test_img).view(1,1,28,28).to(device)\n",
    "  with torch.no_grad():\n",
    "    output=load_model(test_data)\n",
    "  print(img_name, output.argmax(dim=1).cpu().numpy()[0])\n",
    "  time.sleep(0.5)"
   ]
  }
 ],
 "metadata": {
  "accelerator": "GPU",
  "colab": {
   "collapsed_sections": [],
   "name": "mnist_colab_example.ipynb",
   "provenance": [],
   "toc_visible": true
  },
  "kernelspec": {
   "display_name": "base",
   "language": "python",
   "name": "python3"
  },
  "language_info": {
   "codemirror_mode": {
    "name": "ipython",
    "version": 3
   },
   "file_extension": ".py",
   "mimetype": "text/x-python",
   "name": "python",
   "nbconvert_exporter": "python",
   "pygments_lexer": "ipython3",
   "version": "3.9.16"
  },
  "vscode": {
   "interpreter": {
    "hash": "b50fbf92b9220fb7ea994e26710285549934fa15e85e2b5dae59e9ae38d16f1c"
   }
  }
 },
 "nbformat": 4,
 "nbformat_minor": 4
}
